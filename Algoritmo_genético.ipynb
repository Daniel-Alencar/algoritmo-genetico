{
  "cells": [
    {
      "cell_type": "markdown",
      "metadata": {
        "id": "UDMuT7184N0Y"
      },
      "source": [
        "# Declar"
      ]
    },
    {
      "cell_type": "code",
      "execution_count": null,
      "metadata": {
        "id": "3Qp3hbYRxsFb"
      },
      "outputs": [
        {
          "ename": "",
          "evalue": "",
          "output_type": "error",
          "traceback": [
            "\u001b[1;31mRunning cells with 'Python 3.8.10 64-bit' requires ipykernel package.\n",
            "Run the following command to install 'ipykernel' into the Python environment. \n",
            "Command: '/usr/bin/python3 -m pip install ipykernel -U --user --force-reinstall'"
          ]
        }
      ],
      "source": [
        "func = x ** 2 - 3 * x + 4\n"
      ]
    },
    {
      "cell_type": "markdown",
      "metadata": {
        "id": "c9dXgH6l1thP"
      },
      "source": []
    },
    {
      "cell_type": "code",
      "execution_count": null,
      "metadata": {
        "id": "W_U75f9i1r-I"
      },
      "outputs": [
        {
          "ename": "",
          "evalue": "",
          "output_type": "error",
          "traceback": [
            "\u001b[1;31mFailed to start the Kernel. \n",
            "Failed to start the Kernel 'Python 3.8.10 64-bit'. \n",
            "View Jupyter <a href='command:jupyter.viewOutput'>log</a> for further details. Canceled future for execute_request message before replies were done"
          ]
        }
      ],
      "source": [
        "a, b = -10, 10\n",
        "X = [11111111]\n",
        "init = 4\n",
        "mutation = 0.01\n",
        "crossover = 0.6\n",
        "battle = 2\n",
        "generations = 5"
      ]
    },
    {
      "cell_type": "code",
      "execution_count": null,
      "metadata": {
        "id": "l_psoGvP1seD"
      },
      "outputs": [],
      "source": [
        "list = ['00100', '01000', '11100', '01010']\n",
        "\n",
        "def algorithm(list):\n",
        "  while True:\n",
        "    \n"
      ]
    },
    {
      "cell_type": "markdown",
      "metadata": {
        "id": "ePHIl1XGx1-r"
      },
      "source": []
    },
    {
      "cell_type": "code",
      "execution_count": null,
      "metadata": {},
      "outputs": [],
      "source": []
    }
  ],
  "metadata": {
    "colab": {
      "collapsed_sections": [],
      "name": "Algoritmo genético.ipynb",
      "provenance": []
    },
    "kernelspec": {
      "display_name": "Python 3",
      "name": "python3"
    },
    "language_info": {
      "name": "python",
      "version": "3.8.10"
    }
  },
  "nbformat": 4,
  "nbformat_minor": 0
}
